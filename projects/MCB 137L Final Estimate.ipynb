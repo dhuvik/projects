{
 "cells": [
  {
   "cell_type": "markdown",
   "metadata": {},
   "source": [
    "# MCB 137L Final Estimate"
   ]
  },
  {
   "cell_type": "markdown",
   "metadata": {},
   "source": [
    "### Dhuvi Karthikeyan and Shrey Saretha"
   ]
  },
  {
   "cell_type": "markdown",
   "metadata": {},
   "source": [
    "### Import Libraries and Modules"
   ]
  },
  {
   "cell_type": "code",
   "execution_count": 1,
   "metadata": {},
   "outputs": [],
   "source": [
    "import numpy as np\n",
    "import matplotlib.pyplot as plt\n",
    "import pandas as pd\n",
    "import scipy.integrate as integrate"
   ]
  },
  {
   "cell_type": "code",
   "execution_count": 2,
   "metadata": {},
   "outputs": [],
   "source": [
    "ie = pd.read_csv('interaction_energies.csv')\n",
    "ie = ie.rename(columns={\"Unnamed: 0\": \"Residue\"})\n",
    "for i in ie.columns[1:]:\n",
    "    ie[i] = ie[i].str.replace('_', '-').astype(float)\n",
    "ie = ie.set_index('Residue')"
   ]
  },
  {
   "cell_type": "code",
   "execution_count": 3,
   "metadata": {
    "scrolled": false
   },
   "outputs": [
    {
     "data": {
      "text/html": [
       "<div>\n",
       "<style scoped>\n",
       "    .dataframe tbody tr th:only-of-type {\n",
       "        vertical-align: middle;\n",
       "    }\n",
       "\n",
       "    .dataframe tbody tr th {\n",
       "        vertical-align: top;\n",
       "    }\n",
       "\n",
       "    .dataframe thead th {\n",
       "        text-align: right;\n",
       "    }\n",
       "</style>\n",
       "<table border=\"1\" class=\"dataframe\">\n",
       "  <thead>\n",
       "    <tr style=\"text-align: right;\">\n",
       "      <th></th>\n",
       "      <th>Cys</th>\n",
       "      <th>Met</th>\n",
       "      <th>Phe</th>\n",
       "      <th>Ile</th>\n",
       "      <th>Leu</th>\n",
       "      <th>Val</th>\n",
       "      <th>Trp</th>\n",
       "      <th>Tyr</th>\n",
       "      <th>Ala</th>\n",
       "      <th>Gly</th>\n",
       "      <th>Thr</th>\n",
       "      <th>Ser</th>\n",
       "      <th>Asn</th>\n",
       "      <th>Gln</th>\n",
       "      <th>Asp</th>\n",
       "      <th>Glu</th>\n",
       "      <th>His</th>\n",
       "      <th>Arg</th>\n",
       "      <th>Lys</th>\n",
       "      <th>Pro</th>\n",
       "    </tr>\n",
       "    <tr>\n",
       "      <th>Residue</th>\n",
       "      <th></th>\n",
       "      <th></th>\n",
       "      <th></th>\n",
       "      <th></th>\n",
       "      <th></th>\n",
       "      <th></th>\n",
       "      <th></th>\n",
       "      <th></th>\n",
       "      <th></th>\n",
       "      <th></th>\n",
       "      <th></th>\n",
       "      <th></th>\n",
       "      <th></th>\n",
       "      <th></th>\n",
       "      <th></th>\n",
       "      <th></th>\n",
       "      <th></th>\n",
       "      <th></th>\n",
       "      <th></th>\n",
       "      <th></th>\n",
       "    </tr>\n",
       "  </thead>\n",
       "  <tbody>\n",
       "    <tr>\n",
       "      <td>Cys</td>\n",
       "      <td>-5.44</td>\n",
       "      <td>-4.99</td>\n",
       "      <td>-5.80</td>\n",
       "      <td>-5.50</td>\n",
       "      <td>-5.83</td>\n",
       "      <td>-4.96</td>\n",
       "      <td>-4.95</td>\n",
       "      <td>-4.16</td>\n",
       "      <td>-3.57</td>\n",
       "      <td>-3.16</td>\n",
       "      <td>-3.11</td>\n",
       "      <td>-2.86</td>\n",
       "      <td>-2.59</td>\n",
       "      <td>-2.85</td>\n",
       "      <td>-2.41</td>\n",
       "      <td>-2.27</td>\n",
       "      <td>-3.60</td>\n",
       "      <td>-2.57</td>\n",
       "      <td>-1.95</td>\n",
       "      <td>-3.07</td>\n",
       "    </tr>\n",
       "    <tr>\n",
       "      <td>Met</td>\n",
       "      <td>-4.99</td>\n",
       "      <td>-5.46</td>\n",
       "      <td>-6.56</td>\n",
       "      <td>-6.02</td>\n",
       "      <td>-6.41</td>\n",
       "      <td>-5.32</td>\n",
       "      <td>-5.55</td>\n",
       "      <td>-4.91</td>\n",
       "      <td>-3.94</td>\n",
       "      <td>-3.39</td>\n",
       "      <td>-3.51</td>\n",
       "      <td>-3.03</td>\n",
       "      <td>-2.95</td>\n",
       "      <td>-3.30</td>\n",
       "      <td>-2.57</td>\n",
       "      <td>-2.89</td>\n",
       "      <td>-3.98</td>\n",
       "      <td>-3.12</td>\n",
       "      <td>-2.48</td>\n",
       "      <td>-3.45</td>\n",
       "    </tr>\n",
       "    <tr>\n",
       "      <td>Phe</td>\n",
       "      <td>-5.80</td>\n",
       "      <td>-6.56</td>\n",
       "      <td>-7.26</td>\n",
       "      <td>-6.84</td>\n",
       "      <td>-7.28</td>\n",
       "      <td>-6.29</td>\n",
       "      <td>-6.16</td>\n",
       "      <td>-5.66</td>\n",
       "      <td>-4.81</td>\n",
       "      <td>-4.13</td>\n",
       "      <td>-4.28</td>\n",
       "      <td>-4.02</td>\n",
       "      <td>-3.75</td>\n",
       "      <td>-4.10</td>\n",
       "      <td>-3.48</td>\n",
       "      <td>-3.56</td>\n",
       "      <td>-4.77</td>\n",
       "      <td>-3.98</td>\n",
       "      <td>-3.36</td>\n",
       "      <td>-4.25</td>\n",
       "    </tr>\n",
       "    <tr>\n",
       "      <td>Ile</td>\n",
       "      <td>-5.50</td>\n",
       "      <td>-6.02</td>\n",
       "      <td>-6.84</td>\n",
       "      <td>-6.54</td>\n",
       "      <td>-7.04</td>\n",
       "      <td>-6.05</td>\n",
       "      <td>-5.78</td>\n",
       "      <td>-5.25</td>\n",
       "      <td>-4.58</td>\n",
       "      <td>-3.78</td>\n",
       "      <td>-4.03</td>\n",
       "      <td>-3.52</td>\n",
       "      <td>-3.24</td>\n",
       "      <td>-3.67</td>\n",
       "      <td>-3.17</td>\n",
       "      <td>-3.27</td>\n",
       "      <td>-4.14</td>\n",
       "      <td>-3.63</td>\n",
       "      <td>-3.01</td>\n",
       "      <td>-3.76</td>\n",
       "    </tr>\n",
       "    <tr>\n",
       "      <td>Leu</td>\n",
       "      <td>-5.83</td>\n",
       "      <td>-6.41</td>\n",
       "      <td>-7.28</td>\n",
       "      <td>-7.04</td>\n",
       "      <td>-7.37</td>\n",
       "      <td>-6.48</td>\n",
       "      <td>-6.14</td>\n",
       "      <td>-5.67</td>\n",
       "      <td>-4.91</td>\n",
       "      <td>-4.16</td>\n",
       "      <td>-4.34</td>\n",
       "      <td>-3.92</td>\n",
       "      <td>-3.74</td>\n",
       "      <td>-4.04</td>\n",
       "      <td>-3.40</td>\n",
       "      <td>-3.59</td>\n",
       "      <td>-4.54</td>\n",
       "      <td>-4.03</td>\n",
       "      <td>-3.37</td>\n",
       "      <td>-4.20</td>\n",
       "    </tr>\n",
       "    <tr>\n",
       "      <td>Val</td>\n",
       "      <td>-4.96</td>\n",
       "      <td>-5.32</td>\n",
       "      <td>-6.29</td>\n",
       "      <td>-6.05</td>\n",
       "      <td>-6.48</td>\n",
       "      <td>-5.52</td>\n",
       "      <td>-5.18</td>\n",
       "      <td>-4.62</td>\n",
       "      <td>-4.04</td>\n",
       "      <td>-3.38</td>\n",
       "      <td>-3.46</td>\n",
       "      <td>-3.05</td>\n",
       "      <td>-2.83</td>\n",
       "      <td>-3.07</td>\n",
       "      <td>-2.48</td>\n",
       "      <td>-2.67</td>\n",
       "      <td>-3.58</td>\n",
       "      <td>-3.07</td>\n",
       "      <td>-2.49</td>\n",
       "      <td>-3.32</td>\n",
       "    </tr>\n",
       "    <tr>\n",
       "      <td>Trp</td>\n",
       "      <td>-4.95</td>\n",
       "      <td>-5.55</td>\n",
       "      <td>-6.16</td>\n",
       "      <td>-5.78</td>\n",
       "      <td>-6.14</td>\n",
       "      <td>-5.18</td>\n",
       "      <td>-5.06</td>\n",
       "      <td>-4.66</td>\n",
       "      <td>-3.82</td>\n",
       "      <td>-3.42</td>\n",
       "      <td>-3.22</td>\n",
       "      <td>-2.99</td>\n",
       "      <td>-3.07</td>\n",
       "      <td>-3.11</td>\n",
       "      <td>-2.84</td>\n",
       "      <td>-2.99</td>\n",
       "      <td>-3.98</td>\n",
       "      <td>-3.41</td>\n",
       "      <td>-2.69</td>\n",
       "      <td>-3.73</td>\n",
       "    </tr>\n",
       "    <tr>\n",
       "      <td>Tyr</td>\n",
       "      <td>-4.16</td>\n",
       "      <td>-4.91</td>\n",
       "      <td>-5.66</td>\n",
       "      <td>-5.25</td>\n",
       "      <td>-5.67</td>\n",
       "      <td>-4.62</td>\n",
       "      <td>-4.66</td>\n",
       "      <td>-4.17</td>\n",
       "      <td>-3.36</td>\n",
       "      <td>-3.01</td>\n",
       "      <td>-3.01</td>\n",
       "      <td>-2.78</td>\n",
       "      <td>-2.76</td>\n",
       "      <td>-2.97</td>\n",
       "      <td>-2.76</td>\n",
       "      <td>-2.79</td>\n",
       "      <td>-3.52</td>\n",
       "      <td>-3.16</td>\n",
       "      <td>-2.60</td>\n",
       "      <td>-3.19</td>\n",
       "    </tr>\n",
       "    <tr>\n",
       "      <td>Ala</td>\n",
       "      <td>-3.57</td>\n",
       "      <td>-3.94</td>\n",
       "      <td>-4.81</td>\n",
       "      <td>-4.58</td>\n",
       "      <td>-4.91</td>\n",
       "      <td>-4.04</td>\n",
       "      <td>-3.82</td>\n",
       "      <td>-3.36</td>\n",
       "      <td>-2.72</td>\n",
       "      <td>-2.31</td>\n",
       "      <td>-2.32</td>\n",
       "      <td>-2.01</td>\n",
       "      <td>-1.84</td>\n",
       "      <td>-1.89</td>\n",
       "      <td>-1.70</td>\n",
       "      <td>-1.51</td>\n",
       "      <td>-2.41</td>\n",
       "      <td>-1.83</td>\n",
       "      <td>-1.31</td>\n",
       "      <td>-2.03</td>\n",
       "    </tr>\n",
       "    <tr>\n",
       "      <td>Gly</td>\n",
       "      <td>-3.16</td>\n",
       "      <td>-3.39</td>\n",
       "      <td>-4.13</td>\n",
       "      <td>-3.78</td>\n",
       "      <td>-4.16</td>\n",
       "      <td>-3.38</td>\n",
       "      <td>-3.42</td>\n",
       "      <td>-3.01</td>\n",
       "      <td>-2.31</td>\n",
       "      <td>-2.24</td>\n",
       "      <td>-2.08</td>\n",
       "      <td>-1.82</td>\n",
       "      <td>-1.74</td>\n",
       "      <td>-1.66</td>\n",
       "      <td>-1.59</td>\n",
       "      <td>-1.22</td>\n",
       "      <td>-2.15</td>\n",
       "      <td>-1.72</td>\n",
       "      <td>-1.15</td>\n",
       "      <td>-1.87</td>\n",
       "    </tr>\n",
       "    <tr>\n",
       "      <td>Thr</td>\n",
       "      <td>-3.11</td>\n",
       "      <td>-3.51</td>\n",
       "      <td>-4.28</td>\n",
       "      <td>-4.03</td>\n",
       "      <td>-4.34</td>\n",
       "      <td>-3.46</td>\n",
       "      <td>-3.22</td>\n",
       "      <td>-3.01</td>\n",
       "      <td>-2.32</td>\n",
       "      <td>-2.08</td>\n",
       "      <td>-2.12</td>\n",
       "      <td>-1.96</td>\n",
       "      <td>-1.88</td>\n",
       "      <td>-1.90</td>\n",
       "      <td>-1.80</td>\n",
       "      <td>-1.74</td>\n",
       "      <td>-2.42</td>\n",
       "      <td>-1.90</td>\n",
       "      <td>-1.31</td>\n",
       "      <td>-1.90</td>\n",
       "    </tr>\n",
       "    <tr>\n",
       "      <td>Ser</td>\n",
       "      <td>-2.86</td>\n",
       "      <td>-3.03</td>\n",
       "      <td>-4.02</td>\n",
       "      <td>-3.52</td>\n",
       "      <td>-3.92</td>\n",
       "      <td>-3.05</td>\n",
       "      <td>-2.99</td>\n",
       "      <td>-2.78</td>\n",
       "      <td>-2.01</td>\n",
       "      <td>-1.82</td>\n",
       "      <td>-1.96</td>\n",
       "      <td>-1.67</td>\n",
       "      <td>-1.58</td>\n",
       "      <td>-1.49</td>\n",
       "      <td>-1.63</td>\n",
       "      <td>-1.48</td>\n",
       "      <td>-2.11</td>\n",
       "      <td>-1.62</td>\n",
       "      <td>-1.05</td>\n",
       "      <td>-1.57</td>\n",
       "    </tr>\n",
       "    <tr>\n",
       "      <td>Asn</td>\n",
       "      <td>-2.59</td>\n",
       "      <td>-2.95</td>\n",
       "      <td>-3.75</td>\n",
       "      <td>-3.24</td>\n",
       "      <td>-3.74</td>\n",
       "      <td>-2.83</td>\n",
       "      <td>-3.07</td>\n",
       "      <td>-2.76</td>\n",
       "      <td>-1.84</td>\n",
       "      <td>-1.74</td>\n",
       "      <td>-1.88</td>\n",
       "      <td>-1.58</td>\n",
       "      <td>-1.68</td>\n",
       "      <td>-1.71</td>\n",
       "      <td>-1.68</td>\n",
       "      <td>-1.51</td>\n",
       "      <td>-2.08</td>\n",
       "      <td>-1.64</td>\n",
       "      <td>-1.21</td>\n",
       "      <td>-1.53</td>\n",
       "    </tr>\n",
       "    <tr>\n",
       "      <td>Gln</td>\n",
       "      <td>-2.85</td>\n",
       "      <td>-3.30</td>\n",
       "      <td>-4.10</td>\n",
       "      <td>-3.67</td>\n",
       "      <td>-4.04</td>\n",
       "      <td>-3.07</td>\n",
       "      <td>-3.11</td>\n",
       "      <td>-2.97</td>\n",
       "      <td>-1.89</td>\n",
       "      <td>-1.66</td>\n",
       "      <td>-1.90</td>\n",
       "      <td>-1.49</td>\n",
       "      <td>-1.71</td>\n",
       "      <td>-1.54</td>\n",
       "      <td>-1.46</td>\n",
       "      <td>-1.42</td>\n",
       "      <td>-1.98</td>\n",
       "      <td>-1.80</td>\n",
       "      <td>-1.29</td>\n",
       "      <td>-1.73</td>\n",
       "    </tr>\n",
       "    <tr>\n",
       "      <td>Asp</td>\n",
       "      <td>-2.41</td>\n",
       "      <td>-2.57</td>\n",
       "      <td>-3.48</td>\n",
       "      <td>-3.17</td>\n",
       "      <td>-3.40</td>\n",
       "      <td>-2.48</td>\n",
       "      <td>-2.84</td>\n",
       "      <td>-2.76</td>\n",
       "      <td>-1.70</td>\n",
       "      <td>-1.59</td>\n",
       "      <td>-1.80</td>\n",
       "      <td>-1.63</td>\n",
       "      <td>-1.68</td>\n",
       "      <td>-1.46</td>\n",
       "      <td>-1.21</td>\n",
       "      <td>-1.02</td>\n",
       "      <td>-2.32</td>\n",
       "      <td>-2.29</td>\n",
       "      <td>-1.68</td>\n",
       "      <td>-1.33</td>\n",
       "    </tr>\n",
       "    <tr>\n",
       "      <td>Glu</td>\n",
       "      <td>-2.27</td>\n",
       "      <td>-2.89</td>\n",
       "      <td>-3.56</td>\n",
       "      <td>-3.27</td>\n",
       "      <td>-3.59</td>\n",
       "      <td>-2.67</td>\n",
       "      <td>-2.99</td>\n",
       "      <td>-2.79</td>\n",
       "      <td>-1.51</td>\n",
       "      <td>-1.22</td>\n",
       "      <td>-1.74</td>\n",
       "      <td>-1.48</td>\n",
       "      <td>-1.51</td>\n",
       "      <td>-1.42</td>\n",
       "      <td>-1.02</td>\n",
       "      <td>-0.91</td>\n",
       "      <td>-2.15</td>\n",
       "      <td>-2.27</td>\n",
       "      <td>-1.80</td>\n",
       "      <td>-1.26</td>\n",
       "    </tr>\n",
       "    <tr>\n",
       "      <td>His</td>\n",
       "      <td>-3.60</td>\n",
       "      <td>-3.98</td>\n",
       "      <td>-4.77</td>\n",
       "      <td>-4.14</td>\n",
       "      <td>-4.54</td>\n",
       "      <td>-3.58</td>\n",
       "      <td>-3.98</td>\n",
       "      <td>-3.52</td>\n",
       "      <td>-2.41</td>\n",
       "      <td>-2.15</td>\n",
       "      <td>-2.42</td>\n",
       "      <td>-2.11</td>\n",
       "      <td>-2.08</td>\n",
       "      <td>-1.98</td>\n",
       "      <td>-2.32</td>\n",
       "      <td>-2.15</td>\n",
       "      <td>-3.05</td>\n",
       "      <td>-2.16</td>\n",
       "      <td>-1.35</td>\n",
       "      <td>-2.25</td>\n",
       "    </tr>\n",
       "    <tr>\n",
       "      <td>Arg</td>\n",
       "      <td>-2.57</td>\n",
       "      <td>-3.12</td>\n",
       "      <td>-3.98</td>\n",
       "      <td>-3.63</td>\n",
       "      <td>-4.03</td>\n",
       "      <td>-3.07</td>\n",
       "      <td>-3.41</td>\n",
       "      <td>-3.16</td>\n",
       "      <td>-1.83</td>\n",
       "      <td>-1.72</td>\n",
       "      <td>-1.90</td>\n",
       "      <td>-1.62</td>\n",
       "      <td>-1.64</td>\n",
       "      <td>-1.80</td>\n",
       "      <td>-2.29</td>\n",
       "      <td>-2.27</td>\n",
       "      <td>-2.16</td>\n",
       "      <td>-1.55</td>\n",
       "      <td>-0.59</td>\n",
       "      <td>-1.70</td>\n",
       "    </tr>\n",
       "    <tr>\n",
       "      <td>Lys</td>\n",
       "      <td>-1.95</td>\n",
       "      <td>-2.48</td>\n",
       "      <td>-3.36</td>\n",
       "      <td>-3.01</td>\n",
       "      <td>-3.37</td>\n",
       "      <td>-2.49</td>\n",
       "      <td>-2.69</td>\n",
       "      <td>-2.60</td>\n",
       "      <td>-1.31</td>\n",
       "      <td>-1.15</td>\n",
       "      <td>-1.31</td>\n",
       "      <td>-1.05</td>\n",
       "      <td>-1.21</td>\n",
       "      <td>-1.29</td>\n",
       "      <td>-1.68</td>\n",
       "      <td>-1.80</td>\n",
       "      <td>-1.35</td>\n",
       "      <td>-0.59</td>\n",
       "      <td>-0.12</td>\n",
       "      <td>-0.97</td>\n",
       "    </tr>\n",
       "    <tr>\n",
       "      <td>Pro</td>\n",
       "      <td>-3.07</td>\n",
       "      <td>-3.45</td>\n",
       "      <td>-4.25</td>\n",
       "      <td>-3.76</td>\n",
       "      <td>-4.20</td>\n",
       "      <td>-3.32</td>\n",
       "      <td>-3.73</td>\n",
       "      <td>-3.19</td>\n",
       "      <td>-2.03</td>\n",
       "      <td>-1.87</td>\n",
       "      <td>-1.90</td>\n",
       "      <td>-1.57</td>\n",
       "      <td>-1.53</td>\n",
       "      <td>-1.73</td>\n",
       "      <td>-1.33</td>\n",
       "      <td>-1.26</td>\n",
       "      <td>-2.25</td>\n",
       "      <td>-1.70</td>\n",
       "      <td>-0.97</td>\n",
       "      <td>-1.75</td>\n",
       "    </tr>\n",
       "  </tbody>\n",
       "</table>\n",
       "</div>"
      ],
      "text/plain": [
       "          Cys   Met   Phe   Ile   Leu   Val   Trp   Tyr   Ala   Gly   Thr  \\\n",
       "Residue                                                                     \n",
       "Cys     -5.44 -4.99 -5.80 -5.50 -5.83 -4.96 -4.95 -4.16 -3.57 -3.16 -3.11   \n",
       "Met     -4.99 -5.46 -6.56 -6.02 -6.41 -5.32 -5.55 -4.91 -3.94 -3.39 -3.51   \n",
       "Phe     -5.80 -6.56 -7.26 -6.84 -7.28 -6.29 -6.16 -5.66 -4.81 -4.13 -4.28   \n",
       "Ile     -5.50 -6.02 -6.84 -6.54 -7.04 -6.05 -5.78 -5.25 -4.58 -3.78 -4.03   \n",
       "Leu     -5.83 -6.41 -7.28 -7.04 -7.37 -6.48 -6.14 -5.67 -4.91 -4.16 -4.34   \n",
       "Val     -4.96 -5.32 -6.29 -6.05 -6.48 -5.52 -5.18 -4.62 -4.04 -3.38 -3.46   \n",
       "Trp     -4.95 -5.55 -6.16 -5.78 -6.14 -5.18 -5.06 -4.66 -3.82 -3.42 -3.22   \n",
       "Tyr     -4.16 -4.91 -5.66 -5.25 -5.67 -4.62 -4.66 -4.17 -3.36 -3.01 -3.01   \n",
       "Ala     -3.57 -3.94 -4.81 -4.58 -4.91 -4.04 -3.82 -3.36 -2.72 -2.31 -2.32   \n",
       "Gly     -3.16 -3.39 -4.13 -3.78 -4.16 -3.38 -3.42 -3.01 -2.31 -2.24 -2.08   \n",
       "Thr     -3.11 -3.51 -4.28 -4.03 -4.34 -3.46 -3.22 -3.01 -2.32 -2.08 -2.12   \n",
       "Ser     -2.86 -3.03 -4.02 -3.52 -3.92 -3.05 -2.99 -2.78 -2.01 -1.82 -1.96   \n",
       "Asn     -2.59 -2.95 -3.75 -3.24 -3.74 -2.83 -3.07 -2.76 -1.84 -1.74 -1.88   \n",
       "Gln     -2.85 -3.30 -4.10 -3.67 -4.04 -3.07 -3.11 -2.97 -1.89 -1.66 -1.90   \n",
       "Asp     -2.41 -2.57 -3.48 -3.17 -3.40 -2.48 -2.84 -2.76 -1.70 -1.59 -1.80   \n",
       "Glu     -2.27 -2.89 -3.56 -3.27 -3.59 -2.67 -2.99 -2.79 -1.51 -1.22 -1.74   \n",
       "His     -3.60 -3.98 -4.77 -4.14 -4.54 -3.58 -3.98 -3.52 -2.41 -2.15 -2.42   \n",
       "Arg     -2.57 -3.12 -3.98 -3.63 -4.03 -3.07 -3.41 -3.16 -1.83 -1.72 -1.90   \n",
       "Lys     -1.95 -2.48 -3.36 -3.01 -3.37 -2.49 -2.69 -2.60 -1.31 -1.15 -1.31   \n",
       "Pro     -3.07 -3.45 -4.25 -3.76 -4.20 -3.32 -3.73 -3.19 -2.03 -1.87 -1.90   \n",
       "\n",
       "          Ser   Asn   Gln   Asp   Glu   His   Arg   Lys   Pro  \n",
       "Residue                                                        \n",
       "Cys     -2.86 -2.59 -2.85 -2.41 -2.27 -3.60 -2.57 -1.95 -3.07  \n",
       "Met     -3.03 -2.95 -3.30 -2.57 -2.89 -3.98 -3.12 -2.48 -3.45  \n",
       "Phe     -4.02 -3.75 -4.10 -3.48 -3.56 -4.77 -3.98 -3.36 -4.25  \n",
       "Ile     -3.52 -3.24 -3.67 -3.17 -3.27 -4.14 -3.63 -3.01 -3.76  \n",
       "Leu     -3.92 -3.74 -4.04 -3.40 -3.59 -4.54 -4.03 -3.37 -4.20  \n",
       "Val     -3.05 -2.83 -3.07 -2.48 -2.67 -3.58 -3.07 -2.49 -3.32  \n",
       "Trp     -2.99 -3.07 -3.11 -2.84 -2.99 -3.98 -3.41 -2.69 -3.73  \n",
       "Tyr     -2.78 -2.76 -2.97 -2.76 -2.79 -3.52 -3.16 -2.60 -3.19  \n",
       "Ala     -2.01 -1.84 -1.89 -1.70 -1.51 -2.41 -1.83 -1.31 -2.03  \n",
       "Gly     -1.82 -1.74 -1.66 -1.59 -1.22 -2.15 -1.72 -1.15 -1.87  \n",
       "Thr     -1.96 -1.88 -1.90 -1.80 -1.74 -2.42 -1.90 -1.31 -1.90  \n",
       "Ser     -1.67 -1.58 -1.49 -1.63 -1.48 -2.11 -1.62 -1.05 -1.57  \n",
       "Asn     -1.58 -1.68 -1.71 -1.68 -1.51 -2.08 -1.64 -1.21 -1.53  \n",
       "Gln     -1.49 -1.71 -1.54 -1.46 -1.42 -1.98 -1.80 -1.29 -1.73  \n",
       "Asp     -1.63 -1.68 -1.46 -1.21 -1.02 -2.32 -2.29 -1.68 -1.33  \n",
       "Glu     -1.48 -1.51 -1.42 -1.02 -0.91 -2.15 -2.27 -1.80 -1.26  \n",
       "His     -2.11 -2.08 -1.98 -2.32 -2.15 -3.05 -2.16 -1.35 -2.25  \n",
       "Arg     -1.62 -1.64 -1.80 -2.29 -2.27 -2.16 -1.55 -0.59 -1.70  \n",
       "Lys     -1.05 -1.21 -1.29 -1.68 -1.80 -1.35 -0.59 -0.12 -0.97  \n",
       "Pro     -1.57 -1.53 -1.73 -1.33 -1.26 -2.25 -1.70 -0.97 -1.75  "
      ]
     },
     "execution_count": 3,
     "metadata": {},
     "output_type": "execute_result"
    }
   ],
   "source": [
    "ie #Interaction energies in kBt"
   ]
  },
  {
   "cell_type": "code",
   "execution_count": 227,
   "metadata": {},
   "outputs": [],
   "source": [
    "aa = list(ie.columns)\n",
    "covid_freq = [0.031421838177533384,0.010997643362136685,\n",
    "       0.060487038491751764, 0.05970149253731343, 0.08483896307934014,\n",
    "       0.07619795758051846, 0.009426551453260016, 0.04241948153967007,\n",
    "       0.062058130400628436, 0.06441476826394343, 0.07619795758051846,\n",
    "       0.07776904948939513,0.06912804399057344, 0.04870384917517675, \n",
    "        0.04870384917517675,0.037706205813040065, 0.01335428122545169,\n",
    "       0.032992930086410056, 0.047918303220738416, 0.04556166535742341]\n",
    "freq = [.033, .018, .04, .038, .076, .068, .013, .033, .074, .074, .062,\n",
    "       .081, .044, .037, .059, .058, .029, .042, .072, .05]\n",
    "temp = ['C', 'M', 'F', 'I', 'L', 'V', 'W', 'Y', 'A', 'G', 'T', 'S', 'N',\n",
    "       'Q', 'D', 'E', 'H', 'R', 'K', 'P']\n",
    "aa_map = {}\n",
    "for i in range(len(temp)):\n",
    "    aa_map[temp[i]] = aa[i]"
   ]
  },
  {
   "cell_type": "code",
   "execution_count": 82,
   "metadata": {},
   "outputs": [
    {
     "data": {
      "image/png": "[encoded data removed]",
      "text/plain": [
       "<Figure size 720x720 with 1 Axes>"
      ]
     },
     "metadata": {
      "needs_background": "light"
     },
     "output_type": "display_data"
    }
   ],
   "source": [
    "plt.figure(figsize=(10,10))\n",
    "plt.xlabel('Amino Acid Residue')\n",
    "plt.ylabel('Frequency in Organism')\n",
    "plt.title('Empirical Bootstrapped Amino Acid Distribution of Influenza-A')\n",
    "plt.bar(aa, freq)\n",
    "plt.show()"
   ]
  },
  {
   "cell_type": "markdown",
   "metadata": {},
   "source": [
    "### Model"
   ]
  },
  {
   "cell_type": "markdown",
   "metadata": {},
   "source": [
    "$$\n",
    "P_{recognized}(s) \\propto \\left(\\prod_{i=1}^N f_{s_i}\\right)\\exp[- \\beta^*E_0^*(s) ]\n",
    "$$"
   ]
  },
  {
   "cell_type": "markdown",
   "metadata": {},
   "source": [
    "#### Parameters\n"
   ]
  },
  {
   "cell_type": "code",
   "execution_count": 232,
   "metadata": {},
   "outputs": [],
   "source": [
    "beta = -3.07\n",
    "gamma = .94\n",
    "beta_star = 0.49\n",
    "gamma_star = 1.8\n"
   ]
  },
  {
   "cell_type": "code",
   "execution_count": 277,
   "metadata": {},
   "outputs": [],
   "source": [
    "def f_a(s):\n",
    "    return covid_freq[aa.index(s)] #return the frequence of AA\n",
    "    #s is a string for three letter coding of amino acid\n",
    "\n",
    "def epsilon(s): \n",
    "    return np.sum(np.multiply(freq,ie[s]))\n",
    "\n",
    "def variance(s):\n",
    "    return np.sum(np.multiply(freq,np.square(ie[s]))) - epsilon(s)**2\n",
    "\n",
    "def f_a_sel(s):\n",
    "    #equation 17\n",
    "    numerator = f_a(s)*np.exp(-beta*(epsilon(s) - gamma*variance(s)))\n",
    "    denominator = np.sum([f_a(a)*np.exp(-beta*(epsilon(a) - gamma*variance(a))) for a in aa])\n",
    "    return numerator/denominator\n",
    "\n",
    "sel_freq = [f_a_sel(i) for i in aa]\n",
    "\n",
    "def epsilon_star(s):\n",
    "    return np.sum(np.multiply(sel_freq,ie[s]))\n",
    "\n",
    "def variance_star(s):\n",
    "    return np.sum(np.multiply(sel_freq,np.square(ie[s]))) - epsilon_star(s)**2\n",
    "\n",
    "ec_min = -6\n",
    "ec_max = 0\n",
    "\n",
    "def rho_ec():\n",
    "    #Equation 2ish\n",
    "    return 1/(ec_max - ec_min)\n",
    "\n",
    "def rho_sel(e_c):\n",
    "    #equation 18\n",
    "    numerator = rho_ec()*np.exp(-beta*e_c)\n",
    "    denominator = integrate.quad(lambda e: rho_ec()*np.exp(-beta*e), ec_min, ec_max)[0]\n",
    "    return numerator/denominator\n",
    "\n",
    "def mean_braces_ec():\n",
    "    #Equation 22.25\n",
    "    return integrate.quad(lambda e_c: e_c*rho_sel(e_c)*np.exp(-beta*e_c), ec_min, ec_max)[0]\n",
    "\n",
    "def var_braces_ec():\n",
    "    #Equation 22.50\n",
    "    return integrate.quad(lambda e_c: (e_c**2)*rho_sel(e_c)*np.exp(-beta*e_c), ec_min, ec_max)[0] - mean_braces_ec()**2\n",
    "\n",
    "def e_0(S, K):\n",
    "    #S is an array\n",
    "    #equation 20\n",
    "    term1 = mean_braces_ec()\n",
    "    term2 = np.sum([epsilon_star(s) for s in S])\n",
    "    term3 = np.sqrt(2*np.log(K)*(var_braces_ec() + np.sum([variance_star(s) for s in S]) ))\n",
    "    return term1 + term2 - term3\n",
    "\n",
    "def p_rec(S, K):\n",
    "    #S is an array\n",
    "    #Equation 22.75\n",
    "    numerator =  np.exp(-beta_star*e_0(S, K))\n",
    "    denominator = numerator + np.exp(-beta_star*mean_braces_ec())\n",
    "    return np.prod([f_a(s) for s in S])*numerator/denominator\n",
    "\n",
    "def decode(S):\n",
    "    #turn a string of one letter amino acid to the three letter codes\n",
    "    decoded = []\n",
    "    for s in S:\n",
    "        decoded += [aa_map[s]]\n",
    "    return decoded\n",
    "    "
   ]
  },
  {
   "cell_type": "markdown",
   "metadata": {},
   "source": [
    "### Testing on Random Distributions"
   ]
  },
  {
   "cell_type": "code",
   "execution_count": 278,
   "metadata": {},
   "outputs": [
    {
     "data": {
      "text/plain": [
       "6.378372250442569e-06"
      ]
     },
     "execution_count": 278,
     "metadata": {},
     "output_type": "execute_result"
    }
   ],
   "source": [
    "p_rec(['Cys', 'Cys', \"Val\", 'Leu'], 1E6)"
   ]
  },
  {
   "cell_type": "code",
   "execution_count": 160,
   "metadata": {},
   "outputs": [
    {
     "data": {
      "text/plain": [
       "(array([9.321e+03, 4.910e+02, 1.250e+02, 3.300e+01, 1.800e+01, 8.000e+00,\n",
       "        2.000e+00, 1.000e+00, 0.000e+00, 1.000e+00]),\n",
       " array([4.97407818e-06, 1.40418628e-03, 2.80339849e-03, 4.20261070e-03,\n",
       "        5.60182290e-03, 7.00103511e-03, 8.40024732e-03, 9.79945952e-03,\n",
       "        1.11986717e-02, 1.25978839e-02, 1.39970961e-02]),\n",
       " <a list of 10 Patch objects>)"
      ]
     },
     "execution_count": 160,
     "metadata": {},
     "output_type": "execute_result"
    },
    {
     "data": {
      "image/png": "[encoded data removed]",
      "text/plain": [
       "<Figure size 432x288 with 1 Axes>"
      ]
     },
     "metadata": {
      "needs_background": "light"
     },
     "output_type": "display_data"
    }
   ],
   "source": [
    "plt.hist([p_rec(np.random.choice(aa, 5, replace = True)) for i in range(10000)])"
   ]
  },
  {
   "cell_type": "code",
   "execution_count": 152,
   "metadata": {},
   "outputs": [
    {
     "data": {
      "text/plain": [
       "(array([914.,  63.,  14.,   4.,   3.,   0.,   0.,   1.,   0.,   1.]),\n",
       " array([1.05844531e-05, 1.23767529e-03, 2.46476613e-03, 3.69185696e-03,\n",
       "        4.91894780e-03, 6.14603864e-03, 7.37312947e-03, 8.60022031e-03,\n",
       "        9.82731115e-03, 1.10544020e-02, 1.22814928e-02]),\n",
       " <a list of 10 Patch objects>)"
      ]
     },
     "execution_count": 152,
     "metadata": {},
     "output_type": "execute_result"
    },
    {
     "data": {
      "image/png": "[encoded data removed]",
      "text/plain": [
       "<Figure size 432x288 with 1 Axes>"
      ]
     },
     "metadata": {
      "needs_background": "light"
     },
     "output_type": "display_data"
    }
   ],
   "source": [
    "plt.hist([p_rec(np.random.choice(aa, 5, replace = True)) for i in range(1000)])"
   ]
  },
  {
   "cell_type": "code",
   "execution_count": 151,
   "metadata": {},
   "outputs": [
    {
     "data": {
      "text/plain": [
       "(array([53., 20., 16.,  4.,  1.,  2.,  3.,  0.,  0.,  1.]),\n",
       " array([1.50812899e-05, 2.39804747e-04, 4.64528205e-04, 6.89251662e-04,\n",
       "        9.13975119e-04, 1.13869858e-03, 1.36342203e-03, 1.58814549e-03,\n",
       "        1.81286895e-03, 2.03759241e-03, 2.26231586e-03]),\n",
       " <a list of 10 Patch objects>)"
      ]
     },
     "execution_count": 151,
     "metadata": {},
     "output_type": "execute_result"
    },
    {
     "data": {
      "image/png": "[encoded data removed]",
      "text/plain": [
       "<Figure size 432x288 with 1 Axes>"
      ]
     },
     "metadata": {
      "needs_background": "light"
     },
     "output_type": "display_data"
    }
   ],
   "source": [
    "plt.hist([p_rec(np.random.choice(aa, 5, replace = True)) for i in range(100)])"
   ]
  },
  {
   "cell_type": "markdown",
   "metadata": {},
   "source": [
    "### Testing on Influenza-A Spike Protein"
   ]
  },
  {
   "cell_type": "code",
   "execution_count": 154,
   "metadata": {},
   "outputs": [
    {
     "data": {
      "text/plain": [
       "array(['T', 'G', 'R', 'S', 'H'], dtype='<U1')"
      ]
     },
     "execution_count": 154,
     "metadata": {},
     "output_type": "execute_result"
    }
   ],
   "source": [
    "spike= 'MFVFLVLLPLVSSQCVNLTTRTQLPPAYTNSFTRGVYYPDKVFRSSVLHSTQDLFLPFFSNVTWFHAIHVSGTNGTKRFDNPVLPFNDGVYFASTEKSNIIRGWIFGTTLDSKTQSLLIVNNATNVVIKVCEFQFCNDPFLGVYYHKNNKSWMESEFRVYSSANNCTFEYVSQPFLMDLEGKQGNFKNLREFVFKNIDGYFKIYSKHTPINLVRDLPQGFSALEPLVDLPIGINITRFQTLLALHRSYLTPGDSSSGWTAGAAAYYVGYLQPRTFLLKYNENGTITDAVDCALDPLSETKCTLKSFTVEKGIYQTSNFRVQPTESIVRFPNITNLCPFGEVFNATRFASVYAWNRKRISNCVADYSVLYNSASFSTFKCYGVSPTKLNDLCFTNVYADSFVIRGDEVRQIAPGQTGKIADYNYKLPDDFTGCVIAWNSNNLDSKVGGNYNYLYRLFRKSNLKPFERDISTEIYQAGSTPCNGVEGFNCYFPLQSYGFQPTNGVGYQPYRVVVLSFELLHAPATVCGPKKSTNLVKNKCVNFNFNGLTGTGVLTESNKKFLPFQQFGRDIADTTDAVRDPQTLEILDITPCSFGGVSVITPGTNTSNQVAVLYQDVNCTEVPVAIHADQLTPTWRVYSTGSNVFQTRAGCLIGAEHVNNSYECDIPIGAGICASYQTQTNSPRRARSVASQSIIAYTMSLGAENSVAYSNNSIAIPTNFTISVTTEILPVSMTKTSVDCTMYICGDSTECSNLLLQYGSFCTQLNRALTGIAVEQDKNTQEVFAQVKQIYKTPPIKDFGGFNFSQILPDPSKPSKRSFIEDLLFNKVTLADAGFIKQYGDCLGDIAARDLICAQKFNGLTVLPPLLTDEMIAQYTSALLAGTITSGWTFGAGAALQIPFAMQMAYRFNGIGVTQNVLYENQKLIANQFNSAIGKIQDSLSSTASALGKLQDVVNQNAQALNTLVKQLSSNFGAISSVLNDILSRLDKVEAEVQIDRLITGRLQSLQTYVTQQLIRAAEIRASANLAATKMSECVLGQSKRVDFCGKGYHLMSFPQSAPHGVVFLHVTYVPAQEKNFTTAPAICHDGKAHFPREGVFVSNGTHWFVTQRNFYEPQIITTDNTFVSGNCDVVIGIVNNTVYDPLQPELDSFKEELDKYFKNHTSPDVDLGDISGINASVVNIQKEIDRLNEVAKNLNESLIDLQELGKYEQYIKWPWYIWLGFIAGLIAIVMVTIMLCCMTSCCSCLKGCCSCGSCCKFDEDDSEPVLKGVKLHYT'"
   ]
  },
  {
   "cell_type": "code",
   "execution_count": 206,
   "metadata": {},
   "outputs": [
    {
     "data": {
      "text/plain": [
       "(array([27., 30., 19., 10.,  5.,  2.,  3.,  2.,  1.,  1.]),\n",
       " array([1.84673515e-08, 2.38406634e-07, 4.58345916e-07, 6.78285199e-07,\n",
       "        8.98224481e-07, 1.11816376e-06, 1.33810305e-06, 1.55804233e-06,\n",
       "        1.77798161e-06, 1.99792089e-06, 2.21786018e-06]),\n",
       " <a list of 10 Patch objects>)"
      ]
     },
     "execution_count": 206,
     "metadata": {},
     "output_type": "execute_result"
    },
    {
     "data": {
      "image/png": "[encoded data removed]",
      "text/plain": [
       "<Figure size 432x288 with 1 Axes>"
      ]
     },
     "metadata": {
      "needs_background": "light"
     },
     "output_type": "display_data"
    }
   ],
   "source": [
    "plt.hist([p_rec(np.random.choice(decode(spike), 5, replace = False)) for i in range(100)])"
   ]
  },
  {
   "cell_type": "code",
   "execution_count": 174,
   "metadata": {},
   "outputs": [],
   "source": [
    "p_seq = 1/3200000\n",
    "np.random.choice(aa, 5, replace = True)\n",
    "expected_value = 1"
   ]
  },
  {
   "cell_type": "markdown",
   "metadata": {},
   "source": [
    "### Testing on COVID-19"
   ]
  },
  {
   "cell_type": "code",
   "execution_count": 171,
   "metadata": {},
   "outputs": [
    {
     "data": {
      "text/plain": [
       "numpy.ndarray"
      ]
     },
     "execution_count": 171,
     "metadata": {},
     "output_type": "execute_result"
    }
   ],
   "source": [
    "type(np.random.choice(aa, 5, replace = True))"
   ]
  },
  {
   "cell_type": "code",
   "execution_count": 177,
   "metadata": {},
   "outputs": [
    {
     "data": {
      "text/plain": [
       "33963595356.87084"
      ]
     },
     "execution_count": 177,
     "metadata": {},
     "output_type": "execute_result"
    }
   ],
   "source": [
    "1/(p_seq*p_rec(np.random.choice(aa, 5, replace = True)))"
   ]
  },
  {
   "cell_type": "code",
   "execution_count": 188,
   "metadata": {},
   "outputs": [
    {
     "data": {
      "text/plain": [
       "32714023196.93773"
      ]
     },
     "execution_count": 188,
     "metadata": {},
     "output_type": "execute_result"
    }
   ],
   "source": [
    "-1/(np.log(1-p_rec(np.random.choice(aa, 5, replace = True)))/1E6)"
   ]
  },
  {
   "cell_type": "code",
   "execution_count": 207,
   "metadata": {},
   "outputs": [
    {
     "data": {
      "text/plain": [
       "6722399.236087405"
      ]
     },
     "execution_count": 207,
     "metadata": {},
     "output_type": "execute_result"
    }
   ],
   "source": [
    "1/p_rec(['Cys', 'His', 'Leu', 'Tyr', 'Thr'])"
   ]
  },
  {
   "cell_type": "code",
   "execution_count": 208,
   "metadata": {},
   "outputs": [
    {
     "ename": "SyntaxError",
     "evalue": "can't assign to operator (<ipython-input-208-e269ce4893b2>, line 1)",
     "output_type": "error",
     "traceback": [
      "\u001b[0;36m  File \u001b[0;32m\"<ipython-input-208-e269ce4893b2>\"\u001b[0;36m, line \u001b[0;32m1\u001b[0m\n\u001b[0;31m    1 - e**-pN = prec\u001b[0m\n\u001b[0m                     ^\u001b[0m\n\u001b[0;31mSyntaxError\u001b[0m\u001b[0;31m:\u001b[0m can't assign to operator\n"
     ]
    }
   ],
   "source": [
    "1 - e**-pN = prec"
   ]
  },
  {
   "cell_type": "code",
   "execution_count": 210,
   "metadata": {},
   "outputs": [
    {
     "data": {
      "text/plain": [
       "-1.4875642447373734e-07"
      ]
     },
     "execution_count": 210,
     "metadata": {},
     "output_type": "execute_result"
    }
   ],
   "source": [
    "np.log(1 - p_rec(['Cys', 'His', 'Leu', 'Tyr', 'Thr']))"
   ]
  },
  {
   "cell_type": "code",
   "execution_count": 211,
   "metadata": {},
   "outputs": [
    {
     "data": {
      "text/plain": [
       "1.48756413429266e-07"
      ]
     },
     "execution_count": 211,
     "metadata": {},
     "output_type": "execute_result"
    }
   ],
   "source": [
    "p_rec(['Cys', 'His', 'Leu', 'Tyr', 'Thr'])"
   ]
  },
  {
   "cell_type": "code",
   "execution_count": 221,
   "metadata": {},
   "outputs": [
    {
     "data": {
      "text/plain": [
       "0.9999996535894979"
      ]
     },
     "execution_count": 221,
     "metadata": {},
     "output_type": "execute_result"
    }
   ],
   "source": [
    "1-np.exp(-p_rec(['Cys', 'His', 'Leu', 'Tyr', 'Thr'])*100000000)"
   ]
  },
  {
   "cell_type": "code",
   "execution_count": 241,
   "metadata": {},
   "outputs": [],
   "source": [
    "prob = []\n",
    "for i in np.arange(1, 1E8, 100000):\n",
    "    prob += [1-np.exp(-p_rec(['Cys', 'His', 'Leu', 'Tyr', 'Thr'], i)*i)]\n",
    "    \n"
   ]
  },
  {
   "cell_type": "code",
   "execution_count": 254,
   "metadata": {},
   "outputs": [],
   "source": [
    "influenza_prob = []\n",
    "for i in np.arange(1, 1E8, 100000):\n",
    "    influenza_prob += [1-np.exp(-p_rec(['Val', 'Gln', 'Ile', 'Val', 'Ile'], i)*i)]"
   ]
  },
  {
   "cell_type": "code",
   "execution_count": 255,
   "metadata": {},
   "outputs": [
    {
     "data": {
      "text/plain": [
       "Text(0.5, 1.0, 'Repertoire Size vs. Probability of Detection')"
      ]
     },
     "execution_count": 255,
     "metadata": {},
     "output_type": "execute_result"
    },
    {
     "data": {
      "image/png": "[encoded data removed]",
      "text/plain": [
       "<Figure size 432x288 with 1 Axes>"
      ]
     },
     "metadata": {
      "needs_background": "light"
     },
     "output_type": "display_data"
    }
   ],
   "source": [
    "plt.plot(np.arange(1, 1E8, 100000), prob)\n",
    "plt.plot(np.arange(1, 1E8, 100000), influenza_prob)\n",
    "plt.legend(['SARS-Cov_2 Spike Protein', 'Influenza-A H Protein'])\n",
    "plt.xlabel('Repertoire Size (K) [# of Unique TCRs]')\n",
    "plt.ylabel('Probability of Detection')\n",
    "plt.title('Repertoire Size vs. Probability of Detection')"
   ]
  },
  {
   "cell_type": "code",
   "execution_count": 266,
   "metadata": {},
   "outputs": [
    {
     "data": {
      "text/plain": [
       "Text(0.5, 1.0, 'Log Repertoire Size vs. Probability of Detection')"
      ]
     },
     "execution_count": 266,
     "metadata": {},
     "output_type": "execute_result"
    },
    {
     "data": {
      "image/png": "[encoded data removed]",
      "text/plain": [
       "<Figure size 432x288 with 1 Axes>"
      ]
     },
     "metadata": {
      "needs_background": "light"
     },
     "output_type": "display_data"
    }
   ],
   "source": [
    "plt.plot(np.arange(1, 1E8, 100000), prob)\n",
    "plt.plot(np.arange(1, 1E8, 100000), influenza_prob)\n",
    "plt.xscale('log')\n",
    "#plt.yscale('log')\n",
    "plt.axhline(0.5, color = 'red', ls = '--')\n",
    "plt.legend(['SARS-Cov_2 Spike Protein', 'Influenza-A H Protein'])\n",
    "plt.xlabel('Log Repertoire Size (K) [# of Unique TCRs]')\n",
    "plt.ylabel('Probability of Detection')\n",
    "plt.title('Log Repertoire Size vs. Probability of Detection')"
   ]
  },
  {
   "cell_type": "code",
   "execution_count": 276,
   "metadata": {
    "scrolled": true
   },
   "outputs": [
    {
     "data": {
      "text/plain": [
       "700001.0"
      ]
     },
     "execution_count": 276,
     "metadata": {},
     "output_type": "execute_result"
    }
   ],
   "source": [
    "np.arange(1, 1E8, 100000)[7]"
   ]
  },
  {
   "cell_type": "code",
   "execution_count": 275,
   "metadata": {
    "scrolled": false
   },
   "outputs": [
    {
     "data": {
      "text/plain": [
       "7"
      ]
     },
     "execution_count": 275,
     "metadata": {},
     "output_type": "execute_result"
    }
   ],
   "source": [
    "influenza_prob.index(0.5060656758012414)"
   ]
  },
  {
   "cell_type": "markdown",
   "metadata": {},
   "source": [
    "$$\n",
    "P_{rec} = \\left(\\prod_{i=1}^N f_a \\right) \\frac{\\exp[-\\beta^*E_0^*]}{1 + \\exp[-\\beta^*E_0^*]}\n",
    "$$"
   ]
  },
  {
   "cell_type": "code",
   "execution_count": 242,
   "metadata": {},
   "outputs": [],
   "source": [
    "covid_freq = [0.031421838177533384,0.010997643362136685,\n",
    "       0.060487038491751764, 0.05970149253731343, 0.08483896307934014,\n",
    "       0.07619795758051846, 0.009426551453260016, 0.04241948153967007,\n",
    "       0.062058130400628436, 0.06441476826394343, 0.07619795758051846,\n",
    "       0.07776904948939513,0.06912804399057344, 0.04870384917517675, \n",
    "        0.04870384917517675,0.037706205813040065, 0.01335428122545169,\n",
    "       0.032992930086410056, 0.047918303220738416, 0.04556166535742341]\n",
    "influenza_freq= [0.026501766784452298, 0.012367491166077738, 0.03356890459363958, 0.0636042402826855, 0.0812720848056537, 0.06537102473498234, 0.0176678445229682, 0.04770318021201413, 0.06007067137809187, 0.0706713780918728, 0.06537102473498234, 0.08303886925795052, 0.07243816254416961, 0.026501766784452298, 0.044169611307420496, 0.061837455830388695, 0.026501766784452298, 0.03180212014134275, 0.07420494699646643, 0.03356890459363958]"
   ]
  },
  {
   "cell_type": "code",
   "execution_count": null,
   "metadata": {},
   "outputs": [],
   "source": []
  }
 ],
 "metadata": {
  "kernelspec": {
   "display_name": "Python 3",
   "language": "python",
   "name": "python3"
  },
  "language_info": {
   "codemirror_mode": {
    "name": "ipython",
    "version": 3
   },
   "file_extension": ".py",
   "mimetype": "text/x-python",
   "name": "python",
   "nbconvert_exporter": "python",
   "pygments_lexer": "ipython3",
   "version": "3.7.4"
  }
 },
 "nbformat": 4,
 "nbformat_minor": 2
}
