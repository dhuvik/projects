{
 "cells": [
  {
   "cell_type": "markdown",
   "metadata": {
    "colab_type": "text",
    "id": "UiYZp9mwwN88"
   },
   "source": [
    "# Dust Mite Population Dynamics Simulation"
   ]
  },
  {
   "cell_type": "code",
   "execution_count": 0,
   "metadata": {
    "colab": {},
    "colab_type": "code",
    "id": "ifLLKuLXMZas"
   },
   "outputs": [],
   "source": [
    "import numpy as np\n",
    "import matplotlib.pyplot as plt"
   ]
  },
  {
   "cell_type": "markdown",
   "metadata": {
    "colab_type": "text",
    "id": "_VXAnc5E64Ad"
   },
   "source": [
    "### Determining the Growth Rate"
   ]
  },
  {
   "cell_type": "code",
   "execution_count": 0,
   "metadata": {
    "colab": {},
    "colab_type": "code",
    "id": "m2HE_FSxeEpg"
   },
   "outputs": [],
   "source": [
    "number_of_months = 100\n",
    "mite_population = np.zeros(number_of_months)\n",
    "mite_population[0] = 2                                                       ###starting off with only 2 mites a male and female\n",
    "for i in range(number_of_months - 1):     \n",
    "  mite_population[i + 1] = .5*mite_population[i] + 79*.5*mite_population[i]  #### a female mite lays 80 eggs over the course of two months\n",
    "                                                                             #### the model assumes an equal sex ratio of 0.5\n",
    "                                                                             #### males die after mating every month the female outlives \n",
    "                                                                             #### the male by a month\n",
    "\n"
   ]
  },
  {
   "cell_type": "code",
   "execution_count": 4,
   "metadata": {
    "colab": {
     "base_uri": "https://localhost:8080/",
     "height": 312
    },
    "colab_type": "code",
    "id": "E1nsyESWXftY",
    "outputId": "2cf37ece-d8d8-4421-8bf7-2e7aef198310"
   },
   "outputs": [
    {
     "data": {
      "text/plain": [
       "Text(0.5, 1.0, 'Population vs. Time')"
      ]
     },
     "execution_count": 4,
     "metadata": {
      "tags": []
     },
     "output_type": "execute_result"
    },
    {
     "data": {
      "image/png": "[encoded data removed]",
      "text/plain": [
       "<Figure size 432x288 with 1 Axes>"
      ]
     },
     "metadata": {
      "tags": []
     },
     "output_type": "display_data"
    }
   ],
   "source": [
    "plt.plot(mite_population)\n",
    "#plt.xscale('log')\n",
    "#plt.yscale('log')\n",
    "plt.ylabel('Population[Count]')\n",
    "plt.xlabel('Time [Months]')\n",
    "plt.title('Population vs. Time')"
   ]
  },
  {
   "cell_type": "code",
   "execution_count": 5,
   "metadata": {
    "colab": {
     "base_uri": "https://localhost:8080/",
     "height": 312
    },
    "colab_type": "code",
    "id": "iUkJcDX6sTEi",
    "outputId": "e01749c4-ba5b-4416-c9b3-5d64904ec805"
   },
   "outputs": [
    {
     "data": {
      "text/plain": [
       "Text(0.5, 1.0, 'Log Population vs. Time')"
      ]
     },
     "execution_count": 5,
     "metadata": {
      "tags": []
     },
     "output_type": "execute_result"
    },
    {
     "data": {
      "image/png": "[encoded data removed]",
      "text/plain": [
       "<Figure size 432x288 with 1 Axes>"
      ]
     },
     "metadata": {
      "tags": []
     },
     "output_type": "display_data"
    }
   ],
   "source": [
    "plt.plot(mite_population)\n",
    "#plt.xscale('log')\n",
    "plt.yscale('log')\n",
    "plt.ylabel('Log_Population[Count]')\n",
    "plt.xlabel('Time [Months]')\n",
    "plt.title('Log Population vs. Time')"
   ]
  },
  {
   "cell_type": "code",
   "execution_count": 6,
   "metadata": {
    "colab": {
     "base_uri": "https://localhost:8080/",
     "height": 34
    },
    "colab_type": "code",
    "id": "0D5awOMusVGu",
    "outputId": "15758b26-107a-4b6b-8968-44f0b40dff10"
   },
   "outputs": [
    {
     "data": {
      "text/plain": [
       "3.688879454113937"
      ]
     },
     "execution_count": 6,
     "metadata": {
      "tags": []
     },
     "output_type": "execute_result"
    }
   ],
   "source": [
    "r = (np.log(mite_population[29]) - np.log(mite_population[18]))/11\n",
    "r"
   ]
  },
  {
   "cell_type": "markdown",
   "metadata": {
    "colab_type": "text",
    "id": "26oaYepSwBL4"
   },
   "source": [
    "#### Checking the growth rate estimate"
   ]
  },
  {
   "cell_type": "code",
   "execution_count": 7,
   "metadata": {
    "colab": {
     "base_uri": "https://localhost:8080/",
     "height": 34
    },
    "colab_type": "code",
    "id": "DScC3DO3tMNy",
    "outputId": "df5bfb01-5d0c-4898-cc09-88868cebe960"
   },
   "outputs": [
    {
     "data": {
      "text/plain": [
       "2.1990232555520252e+32"
      ]
     },
     "execution_count": 7,
     "metadata": {
      "tags": []
     },
     "output_type": "execute_result"
    }
   ],
   "source": [
    "2*np.exp(r*20)"
   ]
  },
  {
   "cell_type": "code",
   "execution_count": 8,
   "metadata": {
    "colab": {
     "base_uri": "https://localhost:8080/",
     "height": 34
    },
    "colab_type": "code",
    "id": "Wa85zYGEvfux",
    "outputId": "5b4909f3-2702-49eb-a9ff-3d84e1d5a01d"
   },
   "outputs": [
    {
     "data": {
      "text/plain": [
       "2.199023255552e+32"
      ]
     },
     "execution_count": 8,
     "metadata": {
      "tags": []
     },
     "output_type": "execute_result"
    }
   ],
   "source": [
    "mite_population[20]"
   ]
  },
  {
   "cell_type": "markdown",
   "metadata": {
    "colab_type": "text",
    "id": "UHIjx0Aa6__d"
   },
   "source": [
    "### Determining the Carrying Capacity"
   ]
  },
  {
   "cell_type": "markdown",
   "metadata": {
    "colab_type": "text",
    "id": "WB1Dbcbf_WCD"
   },
   "source": [
    "#### Food Based Carrying Capacity"
   ]
  },
  {
   "cell_type": "code",
   "execution_count": 9,
   "metadata": {
    "colab": {
     "base_uri": "https://localhost:8080/",
     "height": 34
    },
    "colab_type": "code",
    "id": "oqg5vpaj7JRc",
    "outputId": "5717b5eb-5ee5-4ff7-b619-91379865c556"
   },
   "outputs": [
    {
     "data": {
      "text/plain": [
       "4639999.999999999"
      ]
     },
     "execution_count": 9,
     "metadata": {
      "tags": []
     },
     "output_type": "execute_result"
    }
   ],
   "source": [
    "(12*0.58)/(.0000015)"
   ]
  },
  {
   "cell_type": "markdown",
   "metadata": {
    "colab_type": "text",
    "id": "TgbyeOq-Pzrw"
   },
   "source": [
    "### Relative Rates"
   ]
  },
  {
   "cell_type": "code",
   "execution_count": 10,
   "metadata": {
    "colab": {
     "base_uri": "https://localhost:8080/",
     "height": 34
    },
    "colab_type": "code",
    "id": "GIGoN9Wq2W6k",
    "outputId": "b7449100-6e49-4bab-9541-a9d201f62923"
   },
   "outputs": [
    {
     "name": "stdout",
     "output_type": "stream",
     "text": [
      "36\n"
     ]
    }
   ],
   "source": [
    "for initial_mite in np.arange(2,1000, 2):  \n",
    "  dt = 1/30              #time intervals set to 1/30 of a month or one day\n",
    "  mite_rate = .0000015\n",
    "  k = 4640000\n",
    "  x = [initial_mite*mite_rate]             # the consumption rate of the mites\n",
    "  y = [initial_mite]             # number of starting mites (population array)\n",
    "  z = [12*0.58]             # number of starting g of dead skin (food array)\n",
    "  t = [0]                   #initializing the time point at 0\n",
    "  while y[-1] < k-1:  #designed to stop around the carrying capacity since we know it will plateau there\n",
    "    y += [(y[-1] + (r*y[-1]*(1-y[-1]/k)*dt))]   #recursive logisitc definition of y_t+1 usign y_t and the growth rate dN/dt\n",
    "    x += [y[-1]*mite_rate]                         #keeping track of time consumption rate\n",
    "    z += [z[-1] + 12*.58 - x[-1]]                 #keeping track of the skin generated minus skin consumed\n",
    "    t += [t[-1]+dt]                                #keeping track of the time\n",
    "  if all(i < 704.52 for i in z):                    #ensuring the threshold is never crossed\n",
    "    print(initial_mite)                             #returning the value of the intial amount\n",
    "    break  "
   ]
  },
  {
   "cell_type": "code",
   "execution_count": 11,
   "metadata": {
    "colab": {
     "base_uri": "https://localhost:8080/",
     "height": 312
    },
    "colab_type": "code",
    "id": "fHmO7nOasLa_",
    "outputId": "09c432cc-c9bd-4cad-96c0-362fe8f3ecd1"
   },
   "outputs": [
    {
     "data": {
      "text/plain": [
       "Text(0.5, 1.0, 'Skin Cell Production vs. Consumption Amounts')"
      ]
     },
     "execution_count": 11,
     "metadata": {
      "tags": []
     },
     "output_type": "execute_result"
    },
    {
     "data": {
      "image/png": "[encoded data removed]",
      "text/plain": [
       "<Figure size 432x288 with 1 Axes>"
      ]
     },
     "metadata": {
      "tags": []
     },
     "output_type": "display_data"
    }
   ],
   "source": [
    "plt.plot(t,x)\n",
    "#plt.plot(y)\n",
    "plt.plot(t,z)\n",
    "plt.legend(['Consumption', 'Skin Cells'])\n",
    "plt.xlabel('Time [Months]')\n",
    "plt.ylabel('Amount [g]')\n",
    "plt.title('Skin Cell Production vs. Consumption Amounts')"
   ]
  },
  {
   "cell_type": "code",
   "execution_count": 22,
   "metadata": {
    "colab": {
     "base_uri": "https://localhost:8080/",
     "height": 312
    },
    "colab_type": "code",
    "id": "LwVYRBqZnvYj",
    "outputId": "8ec8e89d-104c-4ec6-b084-4b6c54a413ee"
   },
   "outputs": [
    {
     "data": {
      "text/plain": [
       "Text(0.5, 1.0, 'Population Growth of Mites in Space')"
      ]
     },
     "execution_count": 22,
     "metadata": {
      "tags": []
     },
     "output_type": "execute_result"
    },
    {
     "data": {
      "image/png": "[encoded data removed]",
      "text/plain": [
       "<Figure size 432x288 with 1 Axes>"
      ]
     },
     "metadata": {
      "tags": []
     },
     "output_type": "display_data"
    }
   ],
   "source": [
    "plt.plot(t, y)\n",
    "plt.plot(t, [i*862 for i in z])   #here the 862 is the number of cells that a mite eats in a day so its a conversion of grams to cells\n",
    "plt.xlabel('Time [Months]')\n",
    "plt.legend(['Number of Mites', 'Number of Food Units'])\n",
    "plt.ylabel('Population [Count]')\n",
    "plt.title('Population Growth of Mites in Space')"
   ]
  },
  {
   "cell_type": "code",
   "execution_count": 0,
   "metadata": {
    "colab": {},
    "colab_type": "code",
    "id": "fFt5QAV743kH"
   },
   "outputs": [],
   "source": []
  }
 ],
 "metadata": {
  "colab": {
   "name": "Midterm Estimation Stuff",
   "provenance": []
  },
  "kernelspec": {
   "display_name": "Python 3",
   "language": "python",
   "name": "python3"
  }
 },
 "nbformat": 4,
 "nbformat_minor": 1
}
